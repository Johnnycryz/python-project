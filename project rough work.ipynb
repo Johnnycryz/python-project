{
 "cells": [
  {
   "cell_type": "code",
   "execution_count": 5,
   "id": "d9f62ce0",
   "metadata": {},
   "outputs": [],
   "source": [
    "Menu = {1 : \"Pizza - 6500\", 2 : \"Burger - 3000\", 3 : \"Noodles- 1300\", 4 : \"Exit Menu\"}"
   ]
  },
  {
   "cell_type": "code",
   "execution_count": 13,
   "id": "a1a2f52d",
   "metadata": {},
   "outputs": [
    {
     "data": {
      "text/plain": [
       "'Exit Menu'"
      ]
     },
     "execution_count": 13,
     "metadata": {},
     "output_type": "execute_result"
    }
   ],
   "source": [
    "Menu[4]"
   ]
  },
  {
   "cell_type": "code",
   "execution_count": 23,
   "id": "27dbe330",
   "metadata": {},
   "outputs": [
    {
     "name": "stdout",
     "output_type": "stream",
     "text": [
      "What will you like to order3\n"
     ]
    },
    {
     "ename": "SyntaxError",
     "evalue": "'return' outside function (4121294588.py, line 11)",
     "output_type": "error",
     "traceback": [
      "\u001b[1;36m  Cell \u001b[1;32mIn[23], line 11\u001b[1;36m\u001b[0m\n\u001b[1;33m    return user_choice\u001b[0m\n\u001b[1;37m    ^\u001b[0m\n\u001b[1;31mSyntaxError\u001b[0m\u001b[1;31m:\u001b[0m 'return' outside function\n"
     ]
    }
   ],
   "source": [
    "Menu = {1 : \"Pizza - 6500\", \n",
    "        2 : \"Burger - 3000\", \n",
    "        3 : \"Noodles- 1300\", \n",
    "        4 : \"Exit Menu\"}\n",
    "user_choice = input (\"What will you like to order\")\n",
    "user_choice = int(user_choice)\n",
    "if int(user_choice) <= 4:\n",
    "    print(Menu[user_choice])\n",
    "else:\n",
    "    print(\"Error\")\n",
    "    "
   ]
  },
  {
   "cell_type": "code",
   "execution_count": 1,
   "id": "c636250a",
   "metadata": {},
   "outputs": [],
   "source": [
    "#PLEASE DO NOT MODIFY THIS CELL\n",
    "\n",
    "def display_menu():\n",
    "    \"\"\"\n",
    "    Description: Prints the menu options for the food items available in the ordering app.\n",
    "                 since the app only has 3 food items you can order we add a fourth option to exit\n",
    "                 the menu when they are done ordering.\n",
    "    \"\"\"\n",
    "    print(\"Menu:\")\n",
    "    print(\"1. Pizza - 6500\")\n",
    "    print(\"2. Burger - 3000\")\n",
    "    print(\"3. Noodles - 1300\")\n",
    "    print(\"4. Exit Menu\")"
   ]
  },
  {
   "cell_type": "markdown",
   "id": "658046ea",
   "metadata": {},
   "source": [
    "## Final approved code for user_choice"
   ]
  },
  {
   "cell_type": "code",
   "execution_count": 2,
   "id": "5fa3cbf2",
   "metadata": {
    "scrolled": true
   },
   "outputs": [
    {
     "name": "stdout",
     "output_type": "stream",
     "text": [
      "Menu:\n",
      "1. Pizza - 6500\n",
      "2. Burger - 3000\n",
      "3. Noodles - 1300\n",
      "4. Exit Menu\n",
      "Enter a corresponding number for what you will like to order? 2\n",
      "You have selected Burger\n"
     ]
    }
   ],
   "source": [
    "# This is the approved code for task 1 \n",
    "def get_user_choice():\n",
    "    \"\"\"\n",
    "    Description: Takes user input to get the number corresponding to the chosen food item from the menu.\n",
    "                 Ensures the input is a valid choice between 1 and 4.\n",
    "\n",
    "                 If the user types a valid number that is not between 1 and 4, return the ERROR\n",
    "    \"\"\"\n",
    "    # YOUR CODE HERE\n",
    "    display_menu()\n",
    "    Menu = {1 : \"Pizza\" , \n",
    "            2 : \"Burger\", \n",
    "            3 : \"Noodles\",               \n",
    "           }\n",
    "    while True: \n",
    "        try: \n",
    "            choice = input(\"Enter a corresponding number for what you will like to order? \")\n",
    "            choice = int(choice)\n",
    "            assert(choice > 0), 'Number must be bigger than 0' \n",
    "            \n",
    "            if choice < 4:\n",
    "                return Menu[choice]\n",
    "            else:\n",
    "                print(\"More items will be available soon\")\n",
    "                return Menu[choice]\n",
    "        except: \n",
    "            print(\"Please enter a number between 1 and 3\")\n",
    "    \n",
    "selected_item = str(get_user_choice())\n",
    "print(\"You have selected \" + selected_item)\n"
   ]
  },
  {
   "cell_type": "code",
   "execution_count": 54,
   "id": "ed52d56a",
   "metadata": {},
   "outputs": [
    {
     "name": "stdout",
     "output_type": "stream",
     "text": [
      "What will you like to order3\n"
     ]
    },
    {
     "ename": "KeyError",
     "evalue": "'3'",
     "output_type": "error",
     "traceback": [
      "\u001b[1;31m---------------------------------------------------------------------------\u001b[0m",
      "\u001b[1;31mKeyError\u001b[0m                                  Traceback (most recent call last)",
      "Cell \u001b[1;32mIn[54], line 5\u001b[0m\n\u001b[0;32m      3\u001b[0m user_choice \u001b[38;5;241m=\u001b[39m \u001b[38;5;28minput\u001b[39m (\u001b[38;5;124m\"\u001b[39m\u001b[38;5;124mWhat will you like to order\u001b[39m\u001b[38;5;124m\"\u001b[39m)\n\u001b[0;32m      4\u001b[0m \u001b[38;5;28;01mif\u001b[39;00m \u001b[38;5;28mint\u001b[39m(user_choice) \u001b[38;5;241m<\u001b[39m\u001b[38;5;241m=\u001b[39m \u001b[38;5;241m4\u001b[39m:\n\u001b[1;32m----> 5\u001b[0m     \u001b[38;5;28mprint\u001b[39m(\u001b[43mMenu\u001b[49m\u001b[43m[\u001b[49m\u001b[43muser_choice\u001b[49m\u001b[43m]\u001b[49m)\n\u001b[0;32m      7\u001b[0m \u001b[38;5;28;01melse\u001b[39;00m:\n\u001b[0;32m      8\u001b[0m     \u001b[38;5;28mprint\u001b[39m(\u001b[38;5;124m\"\u001b[39m\u001b[38;5;124mError\u001b[39m\u001b[38;5;124m\"\u001b[39m)\n",
      "\u001b[1;31mKeyError\u001b[0m: '3'"
     ]
    }
   ],
   "source": [
    "#Trying to convert user_choice to integer\n",
    "Menu = {1 : \"Pizza - 6500\", 2 : \"Burger - 3000\", 3 : \"Noodles- 1300\", 4 : \"Exit Menu\"}\n",
    "user_choice = input (\"What will you like to order\")\n",
    "if int(user_choice) <= 4:\n",
    "    print(Menu[user_choice])\n",
    "    \n",
    "else:\n",
    "    print(\"Error\")\n"
   ]
  },
  {
   "cell_type": "code",
   "execution_count": 67,
   "id": "29803939",
   "metadata": {},
   "outputs": [],
   "source": [
    "import pandas as pd\n",
    "\n",
    "def scored_results(dataframe1):\n",
    "    results = dataframe1[['Scored Labels']]\n",
    "    results.rename(columns={'Scored Labels':'predicted_price'}, inplace=True)\n",
    "    return results"
   ]
  },
  {
   "cell_type": "markdown",
   "id": "e3eb7d4e",
   "metadata": {},
   "source": [
    "### This is the approved code for the first task - This has a bug."
   ]
  },
  {
   "cell_type": "code",
   "execution_count": 11,
   "id": "311af1cd",
   "metadata": {},
   "outputs": [
    {
     "name": "stdout",
     "output_type": "stream",
     "text": [
      "Enter a number that correspond wth what you like to order? -1\n",
      "This is not on the list\n",
      "Enter a number that correspond wth what you like to order? 9\n",
      "Error: Please select a number between 1 and 4\n"
     ]
    },
    {
     "ename": "TypeError",
     "evalue": "can only concatenate str (not \"dict\") to str",
     "output_type": "error",
     "traceback": [
      "\u001b[1;31m---------------------------------------------------------------------------\u001b[0m",
      "\u001b[1;31mTypeError\u001b[0m                                 Traceback (most recent call last)",
      "Cell \u001b[1;32mIn[11], line 27\u001b[0m\n\u001b[0;32m     25\u001b[0m             \u001b[38;5;28mprint\u001b[39m(\u001b[38;5;124m\"\u001b[39m\u001b[38;5;124mThis is not on the list\u001b[39m\u001b[38;5;124m\"\u001b[39m)\n\u001b[0;32m     26\u001b[0m selected_item \u001b[38;5;241m=\u001b[39m get_user_choice()\n\u001b[1;32m---> 27\u001b[0m \u001b[38;5;28mprint\u001b[39m(\u001b[38;5;124;43m\"\u001b[39;49m\u001b[38;5;124;43mYou have selected \u001b[39;49m\u001b[38;5;124;43m\"\u001b[39;49m\u001b[43m \u001b[49m\u001b[38;5;241;43m+\u001b[39;49m\u001b[43m \u001b[49m\u001b[43mselected_item\u001b[49m)\n",
      "\u001b[1;31mTypeError\u001b[0m: can only concatenate str (not \"dict\") to str"
     ]
    }
   ],
   "source": [
    "def get_user_choice():\n",
    "    \"\"\"\n",
    "    Description: Takes user input to get the number corresponding to the chosen food item from the menu.\n",
    "                 Ensures the input is a valid choice between 1 and 4.\n",
    "\n",
    "                 If the user types a valid number that is not between 1 and 4, return the ERROR\n",
    "    \"\"\"\n",
    "    # YOUR CODE HERE\n",
    "    Menu = {1 : \"Pizza\" , \n",
    "            2 : \"Burger\", \n",
    "            3 : \"Noodles\",\n",
    "            4: \"Exit Menu\",\n",
    "            }\n",
    "    while True: \n",
    "        try: \n",
    "            user_choice = int(input(\"Enter a number that correspond wth what you like to order? \")) \n",
    "            assert(user_choice > 0), 'Number must be bigger than 0' \n",
    "            \n",
    "            if user_choice <= 4:\n",
    "                return Menu[user_choice]\n",
    "            else:\n",
    "                print(\"Error: Please select a number between 1 and 4\")\n",
    "                return Menu\n",
    "        except: \n",
    "            print(\"This is not on the list\")\n",
    "\n",
    "            \n",
    "\n",
    "selected_item = get_user_choice()\n",
    "print(\"You have selected \" + selected_item)  \n",
    "    "
   ]
  },
  {
   "cell_type": "code",
   "execution_count": null,
   "id": "36c4c377",
   "metadata": {},
   "outputs": [],
   "source": []
  },
  {
   "cell_type": "code",
   "execution_count": null,
   "id": "5b405b05",
   "metadata": {},
   "outputs": [],
   "source": [
    "Menu = {1 : \"Pizza\" , \n",
    "                2 : \"Burger\", \n",
    "                3 : \"Noodles\"\n",
    "               }\n",
    "        user_choice = input (\"What will you like to order? \")\n",
    "        user_choice = int(user_choice)\n",
    "        if user_choice <= 4:\n",
    "            return Menu[user_choice]\n",
    "        else:\n",
    "            print(\"Error, Please enter a number between 1 and 4\")\n",
    "            return Menu\n",
    "    selected_item = get_user_choice()\n",
    "    print(\"You have selected \" + selected_item)\n",
    "\n"
   ]
  },
  {
   "cell_type": "markdown",
   "id": "7d6f7166",
   "metadata": {},
   "source": [
    "## This is where task 2 (get_quantity) begins"
   ]
  },
  {
   "cell_type": "code",
   "execution_count": 19,
   "id": "22637b72",
   "metadata": {},
   "outputs": [
    {
     "name": "stdout",
     "output_type": "stream",
     "text": [
      "How many pieces of Burger will you like to order?2\n",
      "You are buying 2pc(s) of Burger\n"
     ]
    }
   ],
   "source": [
    "def get_quantity():\n",
    "    \"\"\"\n",
    "    Description: Takes user input to get the quantity of the selected food item.\n",
    "                 and ensures the input is a positive integer.\n",
    "    \"\"\"\n",
    "    # YOUR CODE HERE\n",
    "    quantity = input (\"How many pieces of \" + selected_item + \" will you like to order?\")\n",
    "    quantity = int(quantity)\n",
    "    return quantity\n",
    "  \n",
    "total_quantity = str(get_quantity())\n",
    "print(\"You are buying \" + total_quantity + \"pc(s) of\", selected_item)\n",
    "\n",
    " "
   ]
  },
  {
   "cell_type": "code",
   "execution_count": null,
   "id": "57a72c99",
   "metadata": {},
   "outputs": [],
   "source": []
  },
  {
   "cell_type": "code",
   "execution_count": 3,
   "id": "4a723600",
   "metadata": {},
   "outputs": [
    {
     "name": "stdout",
     "output_type": "stream",
     "text": [
      "How many pieces of Burger will you like to order? 5\n",
      "You are buying 5pc(s) of Burger\n"
     ]
    }
   ],
   "source": [
    "# This is the approved code for task 2\n",
    "def get_quantity():\n",
    "    \"\"\"\n",
    "    Description: Takes user input to get the quantity of the selected food item.\n",
    "                 and ensures the input is a positive integer.\n",
    "    \"\"\"\n",
    "    # YOUR CODE HERE\n",
    "    while True: \n",
    "        try: \n",
    "            quantity = input (\"How many pieces of \" + selected_item + \" will you like to order? \")\n",
    "            quantity = int(quantity)\n",
    "            \n",
    "            if quantity <= 0:\n",
    "                print(\"Please enter a valid number\")\n",
    "            else:\n",
    "                return quantity\n",
    "        except: \n",
    "            print(\"Please enter a number greater than 0\")\n",
    "    \n",
    "total_quantity = str(get_quantity())\n",
    "print(\"You are buying \" + total_quantity + \"pc(s) of\", selected_item)\n",
    "\n",
    " "
   ]
  },
  {
   "cell_type": "code",
   "execution_count": null,
   "id": "71e0a819",
   "metadata": {},
   "outputs": [],
   "source": []
  },
  {
   "cell_type": "code",
   "execution_count": 26,
   "id": "afb9050f",
   "metadata": {},
   "outputs": [
    {
     "name": "stdout",
     "output_type": "stream",
     "text": [
      "How many pieces of Burger - 3000 will you like to order? 2\n",
      "You are buying pcs of\n"
     ]
    },
    {
     "data": {
      "text/plain": [
       "2"
      ]
     },
     "execution_count": 26,
     "metadata": {},
     "output_type": "execute_result"
    }
   ],
   "source": [
    "get_quantity()"
   ]
  },
  {
   "cell_type": "markdown",
   "id": "96cf2454",
   "metadata": {},
   "source": [
    "### Task 3 (Item_name) begins"
   ]
  },
  {
   "cell_type": "code",
   "execution_count": 9,
   "id": "4e50df4b",
   "metadata": {},
   "outputs": [],
   "source": [
    "def get_item_name(choice):\n",
    "    \"\"\"\n",
    "    Description: Retrieves and returns the name of a food item based on the user's choice from the menu.\n",
    "    \"\"\"\n",
    "    # YOUR CODE HERE\n",
    "    choice = [1, 2, 3]\n",
    "    1 = \"Pizza\"\n",
    "    2 = \"Burger\"\n",
    "    3 = \"Noodles\"\n",
    "    item_name = \n",
    "    return item_name\n",
    "\n",
    "# the 'choice' argument has to be the number the user entered in task 1"
   ]
  },
  {
   "cell_type": "code",
   "execution_count": 11,
   "id": "15879c60",
   "metadata": {},
   "outputs": [
    {
     "data": {
      "text/plain": [
       "'Noodles'"
      ]
     },
     "execution_count": 11,
     "metadata": {},
     "output_type": "execute_result"
    }
   ],
   "source": [
    "get_item_name(2)"
   ]
  },
  {
   "cell_type": "code",
   "execution_count": 16,
   "id": "3b1d80c0",
   "metadata": {},
   "outputs": [
    {
     "data": {
      "text/plain": [
       "False"
      ]
     },
     "execution_count": 16,
     "metadata": {},
     "output_type": "execute_result"
    }
   ],
   "source": [
    "get_item_name(1) == 'Pizza'\n",
    "get_item_name(2) == 'Burger'\n",
    "get_item_name(3) == 'Noodles'"
   ]
  },
  {
   "cell_type": "code",
   "execution_count": 14,
   "id": "c7b0813a",
   "metadata": {},
   "outputs": [
    {
     "ename": "AssertionError",
     "evalue": "",
     "output_type": "error",
     "traceback": [
      "\u001b[1;31m---------------------------------------------------------------------------\u001b[0m",
      "\u001b[1;31mAssertionError\u001b[0m                            Traceback (most recent call last)",
      "Cell \u001b[1;32mIn[14], line 3\u001b[0m\n\u001b[0;32m      1\u001b[0m \u001b[38;5;66;03m#PLEASE DO NOT MODIFY THIS CELL\u001b[39;00m\n\u001b[1;32m----> 3\u001b[0m \u001b[38;5;28;01massert\u001b[39;00m get_item_name(\u001b[38;5;241m1\u001b[39m) \u001b[38;5;241m==\u001b[39m \u001b[38;5;124m'\u001b[39m\u001b[38;5;124mPizza\u001b[39m\u001b[38;5;124m'\u001b[39m\n\u001b[0;32m      4\u001b[0m \u001b[38;5;28;01massert\u001b[39;00m get_item_name(\u001b[38;5;241m2\u001b[39m) \u001b[38;5;241m==\u001b[39m \u001b[38;5;124m'\u001b[39m\u001b[38;5;124mBurger\u001b[39m\u001b[38;5;124m'\u001b[39m\n\u001b[0;32m      5\u001b[0m \u001b[38;5;28;01massert\u001b[39;00m get_item_name(\u001b[38;5;241m3\u001b[39m) \u001b[38;5;241m==\u001b[39m \u001b[38;5;124m'\u001b[39m\u001b[38;5;124mNoodles\u001b[39m\u001b[38;5;124m'\u001b[39m\n",
      "\u001b[1;31mAssertionError\u001b[0m: "
     ]
    }
   ],
   "source": [
    "#PLEASE DO NOT MODIFY THIS CELL\n",
    "\n",
    "assert get_item_name(1) == 'Pizza'\n",
    "assert get_item_name(2) == 'Burger'\n",
    "assert get_item_name(3) == 'Noodles'"
   ]
  },
  {
   "cell_type": "code",
   "execution_count": 27,
   "id": "cd3c1e1b",
   "metadata": {},
   "outputs": [
    {
     "ename": "NameError",
     "evalue": "name 'user_choice' is not defined",
     "output_type": "error",
     "traceback": [
      "\u001b[1;31m---------------------------------------------------------------------------\u001b[0m",
      "\u001b[1;31mNameError\u001b[0m                                 Traceback (most recent call last)",
      "Cell \u001b[1;32mIn[27], line 1\u001b[0m\n\u001b[1;32m----> 1\u001b[0m \u001b[43muser_choice\u001b[49m\n",
      "\u001b[1;31mNameError\u001b[0m: name 'user_choice' is not defined"
     ]
    }
   ],
   "source": [
    "user_choice"
   ]
  },
  {
   "cell_type": "code",
   "execution_count": null,
   "id": "5cf96a35",
   "metadata": {},
   "outputs": [],
   "source": []
  }
 ],
 "metadata": {
  "kernelspec": {
   "display_name": "Python 3 (ipykernel)",
   "language": "python",
   "name": "python3"
  },
  "language_info": {
   "codemirror_mode": {
    "name": "ipython",
    "version": 3
   },
   "file_extension": ".py",
   "mimetype": "text/x-python",
   "name": "python",
   "nbconvert_exporter": "python",
   "pygments_lexer": "ipython3",
   "version": "3.10.9"
  }
 },
 "nbformat": 4,
 "nbformat_minor": 5
}
